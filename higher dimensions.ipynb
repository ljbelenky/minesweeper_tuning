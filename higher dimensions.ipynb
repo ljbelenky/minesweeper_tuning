{
 "cells": [
  {
   "cell_type": "code",
   "execution_count": 26,
   "id": "f4398e1e",
   "metadata": {},
   "outputs": [],
   "source": [
    "import numpy as np\n",
    "import pandas as pd\n",
    "import matplotlib.pyplot as plt\n",
    "from sklearn.preprocessing import MinMaxScaler as MMS"
   ]
  },
  {
   "cell_type": "code",
   "execution_count": 2,
   "id": "e86d78ad",
   "metadata": {},
   "outputs": [],
   "source": [
    "from itertools import product"
   ]
  },
  {
   "cell_type": "code",
   "execution_count": 30,
   "id": "81f94dad",
   "metadata": {},
   "outputs": [],
   "source": [
    "parameter_space = {'n_estimators':[2,1000],\n",
    "                  'max_depth':[2,40],\n",
    "                  'min_samples_split':[2,100],\n",
    "                  'min_samples_leaf':[2,200],\n",
    "                  }\n",
    "  "
   ]
  },
  {
   "cell_type": "code",
   "execution_count": 27,
   "id": "2b06d805",
   "metadata": {},
   "outputs": [],
   "source": [
    "m = MMS().fit(df)"
   ]
  },
  {
   "cell_type": "code",
   "execution_count": 28,
   "id": "5f6640de",
   "metadata": {},
   "outputs": [
    {
     "data": {
      "text/plain": [
       "array([[0.61954181, 0.71352877, 0.93780482],\n",
       "       [0.71439395, 0.        , 0.        ],\n",
       "       [1.        , 1.        , 0.15881686],\n",
       "       [0.        , 0.26693869, 1.        ]])"
      ]
     },
     "execution_count": 28,
     "metadata": {},
     "output_type": "execute_result"
    }
   ],
   "source": [
    "m.transform(df)"
   ]
  },
  {
   "cell_type": "code",
   "execution_count": 29,
   "id": "284ee9ce",
   "metadata": {},
   "outputs": [
    {
     "data": {
      "text/html": [
       "<div>\n",
       "<style scoped>\n",
       "    .dataframe tbody tr th:only-of-type {\n",
       "        vertical-align: middle;\n",
       "    }\n",
       "\n",
       "    .dataframe tbody tr th {\n",
       "        vertical-align: top;\n",
       "    }\n",
       "\n",
       "    .dataframe thead th {\n",
       "        text-align: right;\n",
       "    }\n",
       "</style>\n",
       "<table border=\"1\" class=\"dataframe\">\n",
       "  <thead>\n",
       "    <tr style=\"text-align: right;\">\n",
       "      <th></th>\n",
       "      <th>X_0</th>\n",
       "      <th>X_1</th>\n",
       "      <th>X_2</th>\n",
       "    </tr>\n",
       "  </thead>\n",
       "  <tbody>\n",
       "    <tr>\n",
       "      <th>0</th>\n",
       "      <td>0.728462</td>\n",
       "      <td>0.424559</td>\n",
       "      <td>0.766475</td>\n",
       "    </tr>\n",
       "    <tr>\n",
       "      <th>1</th>\n",
       "      <td>0.791278</td>\n",
       "      <td>0.130102</td>\n",
       "      <td>0.209185</td>\n",
       "    </tr>\n",
       "    <tr>\n",
       "      <th>2</th>\n",
       "      <td>0.980420</td>\n",
       "      <td>0.542779</td>\n",
       "      <td>0.303562</td>\n",
       "    </tr>\n",
       "    <tr>\n",
       "      <th>3</th>\n",
       "      <td>0.318171</td>\n",
       "      <td>0.240262</td>\n",
       "      <td>0.803435</td>\n",
       "    </tr>\n",
       "  </tbody>\n",
       "</table>\n",
       "</div>"
      ],
      "text/plain": [
       "        X_0       X_1       X_2\n",
       "0  0.728462  0.424559  0.766475\n",
       "1  0.791278  0.130102  0.209185\n",
       "2  0.980420  0.542779  0.303562\n",
       "3  0.318171  0.240262  0.803435"
      ]
     },
     "execution_count": 29,
     "metadata": {},
     "output_type": "execute_result"
    }
   ],
   "source": [
    "df"
   ]
  },
  {
   "cell_type": "code",
   "execution_count": 3,
   "id": "131a244c",
   "metadata": {},
   "outputs": [],
   "source": [
    "dimensions = 3\n",
    "N = 4"
   ]
  },
  {
   "cell_type": "code",
   "execution_count": 4,
   "id": "19bc0ec3",
   "metadata": {},
   "outputs": [],
   "source": [
    "df = pd.DataFrame(data=np.random.uniform(size=(N,dimensions)), columns=[f'X_{i}' for i in range(dimensions)])\n",
    "df;"
   ]
  },
  {
   "cell_type": "code",
   "execution_count": 31,
   "id": "c5303896",
   "metadata": {},
   "outputs": [
    {
     "data": {
      "text/plain": [
       "4"
      ]
     },
     "execution_count": 31,
     "metadata": {},
     "output_type": "execute_result"
    }
   ],
   "source": [
    "len(parameter_space)"
   ]
  },
  {
   "cell_type": "code",
   "execution_count": 33,
   "id": "f18b64d7",
   "metadata": {},
   "outputs": [
    {
     "data": {
      "text/html": [
       "<style>#sk-container-id-1 {color: black;background-color: white;}#sk-container-id-1 pre{padding: 0;}#sk-container-id-1 div.sk-toggleable {background-color: white;}#sk-container-id-1 label.sk-toggleable__label {cursor: pointer;display: block;width: 100%;margin-bottom: 0;padding: 0.3em;box-sizing: border-box;text-align: center;}#sk-container-id-1 label.sk-toggleable__label-arrow:before {content: \"▸\";float: left;margin-right: 0.25em;color: #696969;}#sk-container-id-1 label.sk-toggleable__label-arrow:hover:before {color: black;}#sk-container-id-1 div.sk-estimator:hover label.sk-toggleable__label-arrow:before {color: black;}#sk-container-id-1 div.sk-toggleable__content {max-height: 0;max-width: 0;overflow: hidden;text-align: left;background-color: #f0f8ff;}#sk-container-id-1 div.sk-toggleable__content pre {margin: 0.2em;color: black;border-radius: 0.25em;background-color: #f0f8ff;}#sk-container-id-1 input.sk-toggleable__control:checked~div.sk-toggleable__content {max-height: 200px;max-width: 100%;overflow: auto;}#sk-container-id-1 input.sk-toggleable__control:checked~label.sk-toggleable__label-arrow:before {content: \"▾\";}#sk-container-id-1 div.sk-estimator input.sk-toggleable__control:checked~label.sk-toggleable__label {background-color: #d4ebff;}#sk-container-id-1 div.sk-label input.sk-toggleable__control:checked~label.sk-toggleable__label {background-color: #d4ebff;}#sk-container-id-1 input.sk-hidden--visually {border: 0;clip: rect(1px 1px 1px 1px);clip: rect(1px, 1px, 1px, 1px);height: 1px;margin: -1px;overflow: hidden;padding: 0;position: absolute;width: 1px;}#sk-container-id-1 div.sk-estimator {font-family: monospace;background-color: #f0f8ff;border: 1px dotted black;border-radius: 0.25em;box-sizing: border-box;margin-bottom: 0.5em;}#sk-container-id-1 div.sk-estimator:hover {background-color: #d4ebff;}#sk-container-id-1 div.sk-parallel-item::after {content: \"\";width: 100%;border-bottom: 1px solid gray;flex-grow: 1;}#sk-container-id-1 div.sk-label:hover label.sk-toggleable__label {background-color: #d4ebff;}#sk-container-id-1 div.sk-serial::before {content: \"\";position: absolute;border-left: 1px solid gray;box-sizing: border-box;top: 0;bottom: 0;left: 50%;z-index: 0;}#sk-container-id-1 div.sk-serial {display: flex;flex-direction: column;align-items: center;background-color: white;padding-right: 0.2em;padding-left: 0.2em;position: relative;}#sk-container-id-1 div.sk-item {position: relative;z-index: 1;}#sk-container-id-1 div.sk-parallel {display: flex;align-items: stretch;justify-content: center;background-color: white;position: relative;}#sk-container-id-1 div.sk-item::before, #sk-container-id-1 div.sk-parallel-item::before {content: \"\";position: absolute;border-left: 1px solid gray;box-sizing: border-box;top: 0;bottom: 0;left: 50%;z-index: -1;}#sk-container-id-1 div.sk-parallel-item {display: flex;flex-direction: column;z-index: 1;position: relative;background-color: white;}#sk-container-id-1 div.sk-parallel-item:first-child::after {align-self: flex-end;width: 50%;}#sk-container-id-1 div.sk-parallel-item:last-child::after {align-self: flex-start;width: 50%;}#sk-container-id-1 div.sk-parallel-item:only-child::after {width: 0;}#sk-container-id-1 div.sk-dashed-wrapped {border: 1px dashed gray;margin: 0 0.4em 0.5em 0.4em;box-sizing: border-box;padding-bottom: 0.4em;background-color: white;}#sk-container-id-1 div.sk-label label {font-family: monospace;font-weight: bold;display: inline-block;line-height: 1.2em;}#sk-container-id-1 div.sk-label-container {text-align: center;}#sk-container-id-1 div.sk-container {/* jupyter's `normalize.less` sets `[hidden] { display: none; }` but bootstrap.min.css set `[hidden] { display: none !important; }` so we also need the `!important` here to be able to override the default hidden behavior on the sphinx rendered scikit-learn.org. See: https://github.com/scikit-learn/scikit-learn/issues/21755 */display: inline-block !important;position: relative;}#sk-container-id-1 div.sk-text-repr-fallback {display: none;}</style><div id=\"sk-container-id-1\" class=\"sk-top-container\"><div class=\"sk-text-repr-fallback\"><pre>MinMaxScaler()</pre><b>In a Jupyter environment, please rerun this cell to show the HTML representation or trust the notebook. <br />On GitHub, the HTML representation is unable to render, please try loading this page with nbviewer.org.</b></div><div class=\"sk-container\" hidden><div class=\"sk-item\"><div class=\"sk-estimator sk-toggleable\"><input class=\"sk-toggleable__control sk-hidden--visually\" id=\"sk-estimator-id-1\" type=\"checkbox\" checked><label for=\"sk-estimator-id-1\" class=\"sk-toggleable__label sk-toggleable__label-arrow\">MinMaxScaler</label><div class=\"sk-toggleable__content\"><pre>MinMaxScaler()</pre></div></div></div></div></div>"
      ],
      "text/plain": [
       "MinMaxScaler()"
      ]
     },
     "execution_count": 33,
     "metadata": {},
     "output_type": "execute_result"
    }
   ],
   "source": [
    "mms = MMS().fit(pd.DataFrame(parameter_space))\n",
    "mms"
   ]
  },
  {
   "cell_type": "code",
   "execution_count": 34,
   "id": "2503383c",
   "metadata": {},
   "outputs": [
    {
     "data": {
      "text/html": [
       "<div>\n",
       "<style scoped>\n",
       "    .dataframe tbody tr th:only-of-type {\n",
       "        vertical-align: middle;\n",
       "    }\n",
       "\n",
       "    .dataframe tbody tr th {\n",
       "        vertical-align: top;\n",
       "    }\n",
       "\n",
       "    .dataframe thead th {\n",
       "        text-align: right;\n",
       "    }\n",
       "</style>\n",
       "<table border=\"1\" class=\"dataframe\">\n",
       "  <thead>\n",
       "    <tr style=\"text-align: right;\">\n",
       "      <th></th>\n",
       "      <th>n_estimators</th>\n",
       "      <th>max_depth</th>\n",
       "      <th>min_samples_split</th>\n",
       "      <th>min_samples_leaf</th>\n",
       "    </tr>\n",
       "  </thead>\n",
       "  <tbody>\n",
       "  </tbody>\n",
       "</table>\n",
       "</div>"
      ],
      "text/plain": [
       "Empty DataFrame\n",
       "Columns: [n_estimators, max_depth, min_samples_split, min_samples_leaf]\n",
       "Index: []"
      ]
     },
     "execution_count": 34,
     "metadata": {},
     "output_type": "execute_result"
    }
   ],
   "source": [
    "pd.DataFrame(columns=parameter_space.keys())"
   ]
  },
  {
   "cell_type": "code",
   "execution_count": 98,
   "id": "0a378508",
   "metadata": {},
   "outputs": [],
   "source": [
    "class Minesweeper:\n",
    "    def __init__(self, parameter_space):\n",
    "        self.b = 3\n",
    "        self.df = pd.DataFrame(columns=parameter_space.keys())\n",
    "        self.mms = MMS().fit(pd.DataFrame(parameter_space))\n",
    "        self.dimensions = len(parameter_space)\n",
    "        \n",
    "    @property\n",
    "    def bins(self):\n",
    "        return np.linspace(0,1,self.b+1)\n",
    "    \n",
    "    def get_parameters(self):\n",
    "        while True:\n",
    "            all_cells = set(product(list(range(self.b)), repeat=self.dimensions))\n",
    "            occupied_cells = list(set(self.df.apply(lambda x:np.digitize(x, self.bins)-1, \n",
    "                                           result_type='reduce', axis =1).apply(tuple)))\n",
    "        \n",
    "            relative_neighbors = (list(product((-1,0,1), repeat=self.dimensions)))\n",
    "            exclude_cells = list(set([(tuple([i+j for i,j in zip(a,b)])) for b in relative_neighbors for a in occupied_cells]))\n",
    "            exclude_cells = set([x for x in exclude_cells if all(0<=i<self.b for i in x)])\n",
    "        \n",
    "            vacant_cells = list(all_cells-exclude_cells)\n",
    "            if len(vacant_cells)==0:\n",
    "                self.b+=1\n",
    "                continue\n",
    "                \n",
    "            chosen_cell = vacant_cells[np.random.randint(0,len(vacant_cells))]\n",
    "            print(self.b, chosen_cell)\n",
    "            chosen_values = tuple([(self.bins[i]+self.bins[i+1])/2 for i in chosen_cell])\n",
    "            return self.mms.inverse_transform([chosen_values])[0]\n",
    "        \n",
    "    def update_values(self,values):\n",
    "        values = pd.DataFrame({col:[value] for col, value in zip(self.mms.feature_names_in_, values)})\n",
    "        new_values = pd.DataFrame(columns=self.df.columns, data=self.mms.transform(values))\n",
    "        self.df = pd.concat([self.df, new_values], ignore_index=True)"
   ]
  },
  {
   "cell_type": "code",
   "execution_count": 99,
   "id": "8b7bbc7c",
   "metadata": {},
   "outputs": [
    {
     "data": {
      "text/plain": [
       "<__main__.Minesweeper at 0x7fbd2cb3f250>"
      ]
     },
     "execution_count": 99,
     "metadata": {},
     "output_type": "execute_result"
    }
   ],
   "source": [
    "ms= Minesweeper(parameter_space)\n",
    "ms"
   ]
  },
  {
   "cell_type": "code",
   "execution_count": 100,
   "id": "ea7f9a10",
   "metadata": {},
   "outputs": [
    {
     "name": "stdout",
     "output_type": "stream",
     "text": [
      "3 (1, 1, 2, 1)\n"
     ]
    },
    {
     "data": {
      "text/plain": [
       "array([501.        ,  21.        ,  83.66666667, 101.        ])"
      ]
     },
     "execution_count": 100,
     "metadata": {},
     "output_type": "execute_result"
    }
   ],
   "source": [
    "ms.get_parameters()"
   ]
  },
  {
   "cell_type": "code",
   "execution_count": 101,
   "id": "da41a56f",
   "metadata": {},
   "outputs": [
    {
     "data": {
      "text/html": [
       "<div>\n",
       "<style scoped>\n",
       "    .dataframe tbody tr th:only-of-type {\n",
       "        vertical-align: middle;\n",
       "    }\n",
       "\n",
       "    .dataframe tbody tr th {\n",
       "        vertical-align: top;\n",
       "    }\n",
       "\n",
       "    .dataframe thead th {\n",
       "        text-align: right;\n",
       "    }\n",
       "</style>\n",
       "<table border=\"1\" class=\"dataframe\">\n",
       "  <thead>\n",
       "    <tr style=\"text-align: right;\">\n",
       "      <th></th>\n",
       "      <th>n_estimators</th>\n",
       "      <th>max_depth</th>\n",
       "      <th>min_samples_split</th>\n",
       "      <th>min_samples_leaf</th>\n",
       "    </tr>\n",
       "  </thead>\n",
       "  <tbody>\n",
       "  </tbody>\n",
       "</table>\n",
       "</div>"
      ],
      "text/plain": [
       "Empty DataFrame\n",
       "Columns: [n_estimators, max_depth, min_samples_split, min_samples_leaf]\n",
       "Index: []"
      ]
     },
     "execution_count": 101,
     "metadata": {},
     "output_type": "execute_result"
    }
   ],
   "source": [
    "ms.df"
   ]
  },
  {
   "cell_type": "code",
   "execution_count": 111,
   "id": "301e0e89",
   "metadata": {},
   "outputs": [
    {
     "name": "stdout",
     "output_type": "stream",
     "text": [
      "4 (0, 0, 3, 2)\n",
      "[126.75   6.75  87.75 125.75]\n"
     ]
    },
    {
     "data": {
      "text/html": [
       "<div>\n",
       "<style scoped>\n",
       "    .dataframe tbody tr th:only-of-type {\n",
       "        vertical-align: middle;\n",
       "    }\n",
       "\n",
       "    .dataframe tbody tr th {\n",
       "        vertical-align: top;\n",
       "    }\n",
       "\n",
       "    .dataframe thead th {\n",
       "        text-align: right;\n",
       "    }\n",
       "</style>\n",
       "<table border=\"1\" class=\"dataframe\">\n",
       "  <thead>\n",
       "    <tr style=\"text-align: right;\">\n",
       "      <th></th>\n",
       "      <th>n_estimators</th>\n",
       "      <th>max_depth</th>\n",
       "      <th>min_samples_split</th>\n",
       "      <th>min_samples_leaf</th>\n",
       "    </tr>\n",
       "  </thead>\n",
       "  <tbody>\n",
       "    <tr>\n",
       "      <th>0</th>\n",
       "      <td>0.500000</td>\n",
       "      <td>0.500000</td>\n",
       "      <td>0.500000</td>\n",
       "      <td>0.833333</td>\n",
       "    </tr>\n",
       "    <tr>\n",
       "      <th>1</th>\n",
       "      <td>0.166667</td>\n",
       "      <td>0.500000</td>\n",
       "      <td>0.833333</td>\n",
       "      <td>0.166667</td>\n",
       "    </tr>\n",
       "    <tr>\n",
       "      <th>2</th>\n",
       "      <td>0.833333</td>\n",
       "      <td>0.500000</td>\n",
       "      <td>0.500000</td>\n",
       "      <td>0.166667</td>\n",
       "    </tr>\n",
       "    <tr>\n",
       "      <th>3</th>\n",
       "      <td>0.166667</td>\n",
       "      <td>0.166667</td>\n",
       "      <td>0.166667</td>\n",
       "      <td>0.166667</td>\n",
       "    </tr>\n",
       "    <tr>\n",
       "      <th>4</th>\n",
       "      <td>0.166667</td>\n",
       "      <td>0.833333</td>\n",
       "      <td>0.166667</td>\n",
       "      <td>0.166667</td>\n",
       "    </tr>\n",
       "    <tr>\n",
       "      <th>5</th>\n",
       "      <td>0.625000</td>\n",
       "      <td>0.875000</td>\n",
       "      <td>0.125000</td>\n",
       "      <td>0.375000</td>\n",
       "    </tr>\n",
       "    <tr>\n",
       "      <th>6</th>\n",
       "      <td>0.625000</td>\n",
       "      <td>0.125000</td>\n",
       "      <td>0.125000</td>\n",
       "      <td>0.875000</td>\n",
       "    </tr>\n",
       "    <tr>\n",
       "      <th>7</th>\n",
       "      <td>0.375000</td>\n",
       "      <td>0.875000</td>\n",
       "      <td>0.625000</td>\n",
       "      <td>0.125000</td>\n",
       "    </tr>\n",
       "    <tr>\n",
       "      <th>8</th>\n",
       "      <td>0.375000</td>\n",
       "      <td>0.625000</td>\n",
       "      <td>0.125000</td>\n",
       "      <td>0.875000</td>\n",
       "    </tr>\n",
       "    <tr>\n",
       "      <th>9</th>\n",
       "      <td>0.125000</td>\n",
       "      <td>0.125000</td>\n",
       "      <td>0.875000</td>\n",
       "      <td>0.625000</td>\n",
       "    </tr>\n",
       "  </tbody>\n",
       "</table>\n",
       "</div>"
      ],
      "text/plain": [
       "   n_estimators  max_depth  min_samples_split  min_samples_leaf\n",
       "0      0.500000   0.500000           0.500000          0.833333\n",
       "1      0.166667   0.500000           0.833333          0.166667\n",
       "2      0.833333   0.500000           0.500000          0.166667\n",
       "3      0.166667   0.166667           0.166667          0.166667\n",
       "4      0.166667   0.833333           0.166667          0.166667\n",
       "5      0.625000   0.875000           0.125000          0.375000\n",
       "6      0.625000   0.125000           0.125000          0.875000\n",
       "7      0.375000   0.875000           0.625000          0.125000\n",
       "8      0.375000   0.625000           0.125000          0.875000\n",
       "9      0.125000   0.125000           0.875000          0.625000"
      ]
     },
     "execution_count": 111,
     "metadata": {},
     "output_type": "execute_result"
    }
   ],
   "source": [
    "new_values = ms.get_parameters()\n",
    "print(new_values)\n",
    "ms.update_values(new_values)\n",
    "ms.df"
   ]
  },
  {
   "cell_type": "code",
   "execution_count": 71,
   "id": "6bdab359",
   "metadata": {},
   "outputs": [
    {
     "data": {
      "text/plain": [
       "array([[833.66666667,  21.        ,  83.66666667, 167.        ],\n",
       "       [501.        ,  21.        ,  18.33333333, 167.        ],\n",
       "       [168.33333333,  33.66666667,  83.66666667, 167.        ],\n",
       "       [168.33333333,   8.33333333,  18.33333333,  35.        ],\n",
       "       [833.66666667,   8.33333333,  51.        ,  35.        ],\n",
       "       [168.33333333,   8.33333333,  83.66666667, 167.        ],\n",
       "       [833.66666667,  33.66666667,  18.33333333,  35.        ]])"
      ]
     },
     "execution_count": 71,
     "metadata": {},
     "output_type": "execute_result"
    }
   ],
   "source": [
    "ms.mms.inverse_transform(ms.df)"
   ]
  },
  {
   "cell_type": "code",
   "execution_count": null,
   "id": "e41dd596",
   "metadata": {},
   "outputs": [],
   "source": [
    "ms.df"
   ]
  },
  {
   "cell_type": "code",
   "execution_count": null,
   "id": "35b7bf8d",
   "metadata": {},
   "outputs": [],
   "source": [
    "b = 3\n",
    "bins = np.linspace(0,1,b+1)\n",
    "bins;"
   ]
  },
  {
   "cell_type": "code",
   "execution_count": null,
   "id": "5dd812b1",
   "metadata": {},
   "outputs": [],
   "source": [
    "# df.apply(lambda x:np.digitize(x,bins)-1, axis=1, result_type='reduce').apply(tuple)"
   ]
  },
  {
   "cell_type": "code",
   "execution_count": null,
   "id": "ccb81502",
   "metadata": {},
   "outputs": [],
   "source": [
    "all_cells = set(product( list(range(b)), repeat=dimensions))\n",
    "all_cells;"
   ]
  },
  {
   "cell_type": "code",
   "execution_count": null,
   "id": "6f8155e3",
   "metadata": {},
   "outputs": [],
   "source": [
    "occupied_cells = list(set(df.apply(lambda x:np.digitize(x, bins)-1, result_type='reduce', axis =1).apply(tuple)))\n",
    "occupied_cells;"
   ]
  },
  {
   "cell_type": "code",
   "execution_count": null,
   "id": "46c2bc99",
   "metadata": {},
   "outputs": [],
   "source": [
    "relative_neighbors = (list(product((-1,0,1), repeat=dimensions)))\n",
    "relative_neighbors[:10];"
   ]
  },
  {
   "cell_type": "code",
   "execution_count": null,
   "id": "1a9a004a",
   "metadata": {},
   "outputs": [],
   "source": [
    "exclude_cells = list(set([(tuple([i+j for i,j in zip(a,b)])) for b in relative_neighbors for a in occupied_cells]))\n",
    "exclude_cells = set([x for x in exclude_cells if all(0<=i<b for i in x)]);"
   ]
  },
  {
   "cell_type": "code",
   "execution_count": null,
   "id": "3f18332e",
   "metadata": {},
   "outputs": [],
   "source": [
    "exclude_cells;"
   ]
  },
  {
   "cell_type": "code",
   "execution_count": null,
   "id": "a5e5b7ed",
   "metadata": {},
   "outputs": [],
   "source": [
    "len(exclude_cells)"
   ]
  },
  {
   "cell_type": "code",
   "execution_count": null,
   "id": "bba1b247",
   "metadata": {},
   "outputs": [],
   "source": [
    "len(all_cells)"
   ]
  },
  {
   "cell_type": "code",
   "execution_count": null,
   "id": "669e634a",
   "metadata": {},
   "outputs": [],
   "source": [
    "len(all_cells - exclude_cells)"
   ]
  },
  {
   "cell_type": "code",
   "execution_count": null,
   "id": "89b458df",
   "metadata": {},
   "outputs": [],
   "source": [
    "all_cells-exclude_cells"
   ]
  },
  {
   "cell_type": "code",
   "execution_count": null,
   "id": "8037b80d",
   "metadata": {},
   "outputs": [],
   "source": [
    "vacant_cells = list(all_cells-exclude_cells)\n",
    "chosen_cell = vacant_cells[np.random.randint(0,len(vacant_cells))]"
   ]
  },
  {
   "cell_type": "code",
   "execution_count": null,
   "id": "8cf86fc6",
   "metadata": {},
   "outputs": [],
   "source": [
    "chosen_cell"
   ]
  },
  {
   "cell_type": "code",
   "execution_count": null,
   "id": "bb6dfb2a",
   "metadata": {},
   "outputs": [],
   "source": [
    "chosen_values = tuple([(bins[i]+bins[i+1])/2 for i in chosen_cell])"
   ]
  },
  {
   "cell_type": "code",
   "execution_count": null,
   "id": "697fca19",
   "metadata": {},
   "outputs": [],
   "source": [
    "chosen_values"
   ]
  },
  {
   "cell_type": "code",
   "execution_count": null,
   "id": "2b3da1bb",
   "metadata": {},
   "outputs": [],
   "source": []
  }
 ],
 "metadata": {
  "kernelspec": {
   "display_name": "Python 3 (ipykernel)",
   "language": "python",
   "name": "python3"
  },
  "language_info": {
   "codemirror_mode": {
    "name": "ipython",
    "version": 3
   },
   "file_extension": ".py",
   "mimetype": "text/x-python",
   "name": "python",
   "nbconvert_exporter": "python",
   "pygments_lexer": "ipython3",
   "version": "3.9.7"
  }
 },
 "nbformat": 4,
 "nbformat_minor": 5
}
