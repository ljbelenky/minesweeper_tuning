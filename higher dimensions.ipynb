{
 "cells": [
  {
   "cell_type": "code",
   "execution_count": 1,
   "id": "71b6c40c",
   "metadata": {},
   "outputs": [],
   "source": [
    "import numpy as np\n",
    "import pandas as pd\n",
    "import matplotlib.pyplot as plt\n",
    "from sklearn.preprocessing import MinMaxScaler as MMS\n",
    "from sklearn.svm import SVR\n",
    "from itertools import product"
   ]
  },
  {
   "cell_type": "code",
   "execution_count": 4,
   "id": "614f2472",
   "metadata": {},
   "outputs": [],
   "source": [
    "from sklearn.ensemble import RandomForestClassifier as RFC\n",
    "from sklearn.metrics import f1_score\n",
    "from sklearn.model_selection import train_test_split\n",
    "from sklearn.datasets import make_classification\n",
    "X_train, X_test, y_train, y_test = train_test_split(*make_classification(n_samples=10000,n_features=200))"
   ]
  },
  {
   "cell_type": "code",
   "execution_count": 47,
   "id": "784a9cbc",
   "metadata": {},
   "outputs": [],
   "source": [
    "parameter_space = {'n_estimators':[2,200],\n",
    "                  'max_depth':[2,40],\n",
    "                  'min_samples_split':[2,100],\n",
    "                  'min_samples_leaf':[2,200],\n",
    "                  }\n",
    "  "
   ]
  },
  {
   "cell_type": "code",
   "execution_count": 66,
   "id": "27417b57",
   "metadata": {},
   "outputs": [],
   "source": [
    "class Minesweeper:\n",
    "    def __init__(self, parameter_space):\n",
    "        self.b = 3\n",
    "        self.df = pd.DataFrame(columns=parameter_space.keys())\n",
    "        self.df['score'] = []\n",
    "        self.mms = MMS().fit(pd.DataFrame(parameter_space))\n",
    "        self.dimensions = len(parameter_space)\n",
    "        \n",
    "    @property\n",
    "    def bins(self):\n",
    "        return np.linspace(0,1,self.b+1)\n",
    "    \n",
    "    def get_parameters(self):\n",
    "        scores = self.df.pop('score')\n",
    "        while True:\n",
    "            all_cells = set(product(list(range(self.b)), repeat=self.dimensions))\n",
    "            occupied_cells = list(set(self.df.apply(lambda x:np.digitize(x, self.bins)-1, \n",
    "                                           result_type='reduce', axis =1).apply(tuple)))\n",
    "        \n",
    "            relative_neighbors = (list(product((-1,0,1), repeat=self.dimensions)))\n",
    "            exclude_cells = list(set([(tuple([i+j for i,j in zip(a,b)])) \n",
    "                                      for b in relative_neighbors for a in occupied_cells]))\n",
    "            exclude_cells = set([x for x in exclude_cells if all(0<=i<self.b for i in x)])\n",
    "        \n",
    "            vacant_cells = list(all_cells-exclude_cells)\n",
    "            if len(vacant_cells)==0:\n",
    "                self.b+=1\n",
    "                print(f'increasing b to {self.b}')\n",
    "                continue\n",
    "                \n",
    "            chosen_cell = vacant_cells[np.random.randint(0,len(vacant_cells))]\n",
    "            chosen_values = tuple([(self.bins[i]+self.bins[i+1])/2 for i in chosen_cell])\n",
    "            self.df['score']=scores\n",
    "            return {k:v for k,v in zip(self.mms.feature_names_in_,\n",
    "                                       self.mms.inverse_transform([chosen_values])[0])}\n",
    "        \n",
    "    def update_values(self,values,score):\n",
    "        values = pd.DataFrame(values, index=[0])\n",
    "        values = pd.DataFrame(data=self.mms.transform(values), columns=values.columns)\n",
    "        values['score'] = score\n",
    "        \n",
    "        self.df = pd.concat([self.df, values], ignore_index=True).reset_index(drop=True)\n",
    "        \n",
    "        \n",
    "    def best_parameters(self,full=False):\n",
    "        if len(self.df)<2: return self.get_parameters()\n",
    "        X = (self.df if full else self.df.sample(frac=1/np.e)).copy()\n",
    "        y = X.pop('score')\n",
    "        svr = SVR().fit(X,y)\n",
    "        observations = 100_000 if full else 1000\n",
    "        predict_X = pd.DataFrame(columns=X.columns, data=np.random.uniform(size=(observations,X.shape[1])))\n",
    "        predictions = svr.predict(predict_X)\n",
    "        return {k:v for k,v in zip(self.mms.feature_names_in_, \n",
    "                                   self.mms.inverse_transform([predict_X.loc[predictions.argmax()]]).flatten())}\n",
    "    \n",
    "    @property\n",
    "    def history(self):\n",
    "        result = pd.DataFrame(data=self.mms.inverse_transform(self.df.iloc[:,:-1]), columns=self.mms.feature_names_in_)\n",
    "        result['score'] = self.df['score']\n",
    "        return result"
   ]
  },
  {
   "cell_type": "code",
   "execution_count": 67,
   "id": "9bab3192",
   "metadata": {},
   "outputs": [],
   "source": [
    "ms = Minesweeper(parameter_space)"
   ]
  },
  {
   "cell_type": "code",
   "execution_count": 88,
   "id": "b485172f",
   "metadata": {},
   "outputs": [
    {
     "name": "stdout",
     "output_type": "stream",
     "text": [
      "{'n_estimators': 18, 'max_depth': 17, 'min_samples_split': 10, 'min_samples_leaf': 117}\n",
      "0.8413223140495867\n",
      "{'n_estimators': 150, 'max_depth': 27, 'min_samples_split': 92, 'min_samples_leaf': 169}\n",
      "0.84149377593361\n",
      "{'n_estimators': 117, 'max_depth': 17, 'min_samples_split': 42, 'min_samples_leaf': 84}\n",
      "0.8442044038221853\n",
      "{'n_estimators': 183, 'max_depth': 36, 'min_samples_split': 10, 'min_samples_leaf': 183}\n",
      "0.84149377593361\n",
      "{'n_estimators': 42, 'max_depth': 2, 'min_samples_split': 25, 'min_samples_leaf': 80}\n",
      "0.8422370617696161\n",
      "{'n_estimators': 150, 'max_depth': 24, 'min_samples_split': 91, 'min_samples_leaf': 117}\n",
      "0.8407960199004973\n",
      "{'n_estimators': 18, 'max_depth': 5, 'min_samples_split': 59, 'min_samples_leaf': 183}\n",
      "0.8395876288659794\n",
      "{'n_estimators': 111, 'max_depth': 38, 'min_samples_split': 52, 'min_samples_leaf': 164}\n",
      "0.842280482729921\n",
      "{'n_estimators': 183, 'max_depth': 24, 'min_samples_split': 59, 'min_samples_leaf': 150}\n",
      "0.8415390980554408\n",
      "{'n_estimators': 117, 'max_depth': 36, 'min_samples_split': 59, 'min_samples_leaf': 84}\n",
      "0.8423236514522822\n",
      "{'n_estimators': 26, 'max_depth': 26, 'min_samples_split': 70, 'min_samples_leaf': 178}\n",
      "0.8409748038000826\n",
      "{'n_estimators': 51, 'max_depth': 30, 'min_samples_split': 42, 'min_samples_leaf': 84}\n",
      "0.8397009966777409\n",
      "{'n_estimators': 18, 'max_depth': 17, 'min_samples_split': 10, 'min_samples_leaf': 183}\n",
      "0.841714756801319\n",
      "{'n_estimators': 39, 'max_depth': 8, 'min_samples_split': 46, 'min_samples_leaf': 18}\n",
      "0.8446843853820598\n",
      "{'n_estimators': 150, 'max_depth': 36, 'min_samples_split': 10, 'min_samples_leaf': 117}\n",
      "0.8425425841296219\n",
      "{'n_estimators': 183, 'max_depth': 36, 'min_samples_split': 42, 'min_samples_leaf': 51}\n",
      "0.8424543946932007\n",
      "{'n_estimators': 77, 'max_depth': 23, 'min_samples_split': 14, 'min_samples_leaf': 107}\n",
      "0.8423236514522822\n",
      "{'n_estimators': 18, 'max_depth': 5, 'min_samples_split': 10, 'min_samples_leaf': 150}\n",
      "0.8415841584158417\n",
      "{'n_estimators': 150, 'max_depth': 30, 'min_samples_split': 91, 'min_samples_leaf': 18}\n",
      "0.8487147071217868\n",
      "{'n_estimators': 42, 'max_depth': 27, 'min_samples_split': 4, 'min_samples_leaf': 159}\n",
      "0.8420181968569065\n",
      "{'n_estimators': 18, 'max_depth': 17, 'min_samples_split': 42, 'min_samples_leaf': 84}\n",
      "0.8439065108514191\n",
      "{'n_estimators': 18, 'max_depth': 5, 'min_samples_split': 91, 'min_samples_leaf': 183}\n",
      "0.8430566967953985\n",
      "{'n_estimators': 9, 'max_depth': 38, 'min_samples_split': 87, 'min_samples_leaf': 102}\n",
      "0.8428511879949979\n",
      "{'n_estimators': 183, 'max_depth': 24, 'min_samples_split': 10, 'min_samples_leaf': 18}\n",
      "0.8421052631578947\n",
      "{'n_estimators': 183, 'max_depth': 36, 'min_samples_split': 42, 'min_samples_leaf': 183}\n",
      "0.8424116424116425\n",
      "{'n_estimators': 134, 'max_depth': 32, 'min_samples_split': 25, 'min_samples_leaf': 160}\n",
      "0.8427152317880795\n",
      "{'n_estimators': 183, 'max_depth': 17, 'min_samples_split': 42, 'min_samples_leaf': 84}\n",
      "0.8435035284350354\n",
      "{'n_estimators': 183, 'max_depth': 5, 'min_samples_split': 10, 'min_samples_leaf': 183}\n",
      "0.8429341069208455\n",
      "{'n_estimators': 165, 'max_depth': 17, 'min_samples_split': 65, 'min_samples_leaf': 76}\n",
      "0.8432026688907424\n",
      "{'n_estimators': 84, 'max_depth': 17, 'min_samples_split': 91, 'min_samples_leaf': 183}\n",
      "0.8403152218996266\n",
      "{'n_estimators': 18, 'max_depth': 17, 'min_samples_split': 59, 'min_samples_leaf': 18}\n",
      "0.8466360217300459\n",
      "{'n_estimators': 2, 'max_depth': 31, 'min_samples_split': 62, 'min_samples_leaf': 71}\n",
      "0.8385726423109602\n",
      "{'n_estimators': 183, 'max_depth': 24, 'min_samples_split': 10, 'min_samples_leaf': 84}\n",
      "0.8430232558139534\n",
      "increasing b to 7\n",
      "{'n_estimators': 185, 'max_depth': 10, 'min_samples_split': 65, 'min_samples_leaf': 16}\n",
      "0.8412302576891106\n",
      "{'n_estimators': 165, 'max_depth': 29, 'min_samples_split': 10, 'min_samples_leaf': 111}\n",
      "0.84149377593361\n",
      "{'n_estimators': 157, 'max_depth': 21, 'min_samples_split': 37, 'min_samples_leaf': 185}\n",
      "0.8430232558139534\n",
      "{'n_estimators': 185, 'max_depth': 26, 'min_samples_split': 51, 'min_samples_leaf': 100}\n",
      "0.8432835820895522\n",
      "{'n_estimators': 95, 'max_depth': 21, 'min_samples_split': 23, 'min_samples_leaf': 70}\n",
      "0.8424116424116425\n",
      "{'n_estimators': 16, 'max_depth': 31, 'min_samples_split': 65, 'min_samples_leaf': 129}\n",
      "0.8412764193949441\n",
      "{'n_estimators': 44, 'max_depth': 21, 'min_samples_split': 65, 'min_samples_leaf': 129}\n",
      "0.8418009087154068\n"
     ]
    },
    {
     "data": {
      "text/html": [
       "<div>\n",
       "<style scoped>\n",
       "    .dataframe tbody tr th:only-of-type {\n",
       "        vertical-align: middle;\n",
       "    }\n",
       "\n",
       "    .dataframe tbody tr th {\n",
       "        vertical-align: top;\n",
       "    }\n",
       "\n",
       "    .dataframe thead th {\n",
       "        text-align: right;\n",
       "    }\n",
       "</style>\n",
       "<table border=\"1\" class=\"dataframe\">\n",
       "  <thead>\n",
       "    <tr style=\"text-align: right;\">\n",
       "      <th></th>\n",
       "      <th>n_estimators</th>\n",
       "      <th>max_depth</th>\n",
       "      <th>min_samples_split</th>\n",
       "      <th>min_samples_leaf</th>\n",
       "      <th>score</th>\n",
       "    </tr>\n",
       "  </thead>\n",
       "  <tbody>\n",
       "    <tr>\n",
       "      <th>0</th>\n",
       "      <td>0.494949</td>\n",
       "      <td>0.815789</td>\n",
       "      <td>0.163265</td>\n",
       "      <td>0.494949</td>\n",
       "      <td>0.842193</td>\n",
       "    </tr>\n",
       "    <tr>\n",
       "      <th>1</th>\n",
       "      <td>0.494949</td>\n",
       "      <td>0.157895</td>\n",
       "      <td>0.500000</td>\n",
       "      <td>0.828283</td>\n",
       "      <td>0.841887</td>\n",
       "    </tr>\n",
       "    <tr>\n",
       "      <th>2</th>\n",
       "      <td>0.828283</td>\n",
       "      <td>0.500000</td>\n",
       "      <td>0.826531</td>\n",
       "      <td>0.166667</td>\n",
       "      <td>0.841494</td>\n",
       "    </tr>\n",
       "    <tr>\n",
       "      <th>3</th>\n",
       "      <td>0.494949</td>\n",
       "      <td>0.815789</td>\n",
       "      <td>0.826531</td>\n",
       "      <td>0.828283</td>\n",
       "      <td>0.841974</td>\n",
       "    </tr>\n",
       "    <tr>\n",
       "      <th>4</th>\n",
       "      <td>0.166667</td>\n",
       "      <td>0.157895</td>\n",
       "      <td>0.826531</td>\n",
       "      <td>0.166667</td>\n",
       "      <td>0.840796</td>\n",
       "    </tr>\n",
       "    <tr>\n",
       "      <th>...</th>\n",
       "      <td>...</td>\n",
       "      <td>...</td>\n",
       "      <td>...</td>\n",
       "      <td>...</td>\n",
       "      <td>...</td>\n",
       "    </tr>\n",
       "    <tr>\n",
       "      <th>87</th>\n",
       "      <td>0.782828</td>\n",
       "      <td>0.500000</td>\n",
       "      <td>0.357143</td>\n",
       "      <td>0.924242</td>\n",
       "      <td>0.843023</td>\n",
       "    </tr>\n",
       "    <tr>\n",
       "      <th>88</th>\n",
       "      <td>0.924242</td>\n",
       "      <td>0.631579</td>\n",
       "      <td>0.500000</td>\n",
       "      <td>0.494949</td>\n",
       "      <td>0.843284</td>\n",
       "    </tr>\n",
       "    <tr>\n",
       "      <th>89</th>\n",
       "      <td>0.469697</td>\n",
       "      <td>0.500000</td>\n",
       "      <td>0.214286</td>\n",
       "      <td>0.343434</td>\n",
       "      <td>0.842412</td>\n",
       "    </tr>\n",
       "    <tr>\n",
       "      <th>90</th>\n",
       "      <td>0.070707</td>\n",
       "      <td>0.763158</td>\n",
       "      <td>0.642857</td>\n",
       "      <td>0.641414</td>\n",
       "      <td>0.841276</td>\n",
       "    </tr>\n",
       "    <tr>\n",
       "      <th>91</th>\n",
       "      <td>0.212121</td>\n",
       "      <td>0.500000</td>\n",
       "      <td>0.642857</td>\n",
       "      <td>0.641414</td>\n",
       "      <td>0.841801</td>\n",
       "    </tr>\n",
       "  </tbody>\n",
       "</table>\n",
       "<p>92 rows × 5 columns</p>\n",
       "</div>"
      ],
      "text/plain": [
       "    n_estimators  max_depth  min_samples_split  min_samples_leaf     score\n",
       "0       0.494949   0.815789           0.163265          0.494949  0.842193\n",
       "1       0.494949   0.157895           0.500000          0.828283  0.841887\n",
       "2       0.828283   0.500000           0.826531          0.166667  0.841494\n",
       "3       0.494949   0.815789           0.826531          0.828283  0.841974\n",
       "4       0.166667   0.157895           0.826531          0.166667  0.840796\n",
       "..           ...        ...                ...               ...       ...\n",
       "87      0.782828   0.500000           0.357143          0.924242  0.843023\n",
       "88      0.924242   0.631579           0.500000          0.494949  0.843284\n",
       "89      0.469697   0.500000           0.214286          0.343434  0.842412\n",
       "90      0.070707   0.763158           0.642857          0.641414  0.841276\n",
       "91      0.212121   0.500000           0.642857          0.641414  0.841801\n",
       "\n",
       "[92 rows x 5 columns]"
      ]
     },
     "execution_count": 88,
     "metadata": {},
     "output_type": "execute_result"
    }
   ],
   "source": [
    "for i in range(40):\n",
    "    if i%3==1:\n",
    "        values = ms.best_parameters()\n",
    "    else:\n",
    "        values = ms.get_parameters()\n",
    "    values = {k:int(v) for k,v in values.items()}\n",
    "    print(values)\n",
    "    rfc = RFC(**values, n_jobs=-1).fit(X_train,y_train)\n",
    "    score = f1_score(y_test, rfc.predict(X_test))\n",
    "    print(score)\n",
    "    ms.update_values(values, score)\n",
    "ms.df"
   ]
  },
  {
   "cell_type": "code",
   "execution_count": 89,
   "id": "5e08a683",
   "metadata": {},
   "outputs": [
    {
     "data": {
      "text/html": [
       "<div>\n",
       "<style scoped>\n",
       "    .dataframe tbody tr th:only-of-type {\n",
       "        vertical-align: middle;\n",
       "    }\n",
       "\n",
       "    .dataframe tbody tr th {\n",
       "        vertical-align: top;\n",
       "    }\n",
       "\n",
       "    .dataframe thead th {\n",
       "        text-align: right;\n",
       "    }\n",
       "</style>\n",
       "<table border=\"1\" class=\"dataframe\">\n",
       "  <thead>\n",
       "    <tr style=\"text-align: right;\">\n",
       "      <th></th>\n",
       "      <th>n_estimators</th>\n",
       "      <th>max_depth</th>\n",
       "      <th>min_samples_split</th>\n",
       "      <th>min_samples_leaf</th>\n",
       "      <th>score</th>\n",
       "    </tr>\n",
       "  </thead>\n",
       "  <tbody>\n",
       "    <tr>\n",
       "      <th>0</th>\n",
       "      <td>100.0</td>\n",
       "      <td>33.0</td>\n",
       "      <td>18.0</td>\n",
       "      <td>100.0</td>\n",
       "      <td>0.842193</td>\n",
       "    </tr>\n",
       "    <tr>\n",
       "      <th>1</th>\n",
       "      <td>100.0</td>\n",
       "      <td>8.0</td>\n",
       "      <td>51.0</td>\n",
       "      <td>166.0</td>\n",
       "      <td>0.841887</td>\n",
       "    </tr>\n",
       "    <tr>\n",
       "      <th>2</th>\n",
       "      <td>166.0</td>\n",
       "      <td>21.0</td>\n",
       "      <td>83.0</td>\n",
       "      <td>35.0</td>\n",
       "      <td>0.841494</td>\n",
       "    </tr>\n",
       "    <tr>\n",
       "      <th>3</th>\n",
       "      <td>100.0</td>\n",
       "      <td>33.0</td>\n",
       "      <td>83.0</td>\n",
       "      <td>166.0</td>\n",
       "      <td>0.841974</td>\n",
       "    </tr>\n",
       "    <tr>\n",
       "      <th>4</th>\n",
       "      <td>35.0</td>\n",
       "      <td>8.0</td>\n",
       "      <td>83.0</td>\n",
       "      <td>35.0</td>\n",
       "      <td>0.840796</td>\n",
       "    </tr>\n",
       "    <tr>\n",
       "      <th>...</th>\n",
       "      <td>...</td>\n",
       "      <td>...</td>\n",
       "      <td>...</td>\n",
       "      <td>...</td>\n",
       "      <td>...</td>\n",
       "    </tr>\n",
       "    <tr>\n",
       "      <th>87</th>\n",
       "      <td>157.0</td>\n",
       "      <td>21.0</td>\n",
       "      <td>37.0</td>\n",
       "      <td>185.0</td>\n",
       "      <td>0.843023</td>\n",
       "    </tr>\n",
       "    <tr>\n",
       "      <th>88</th>\n",
       "      <td>185.0</td>\n",
       "      <td>26.0</td>\n",
       "      <td>51.0</td>\n",
       "      <td>100.0</td>\n",
       "      <td>0.843284</td>\n",
       "    </tr>\n",
       "    <tr>\n",
       "      <th>89</th>\n",
       "      <td>95.0</td>\n",
       "      <td>21.0</td>\n",
       "      <td>23.0</td>\n",
       "      <td>70.0</td>\n",
       "      <td>0.842412</td>\n",
       "    </tr>\n",
       "    <tr>\n",
       "      <th>90</th>\n",
       "      <td>16.0</td>\n",
       "      <td>31.0</td>\n",
       "      <td>65.0</td>\n",
       "      <td>129.0</td>\n",
       "      <td>0.841276</td>\n",
       "    </tr>\n",
       "    <tr>\n",
       "      <th>91</th>\n",
       "      <td>44.0</td>\n",
       "      <td>21.0</td>\n",
       "      <td>65.0</td>\n",
       "      <td>129.0</td>\n",
       "      <td>0.841801</td>\n",
       "    </tr>\n",
       "  </tbody>\n",
       "</table>\n",
       "<p>92 rows × 5 columns</p>\n",
       "</div>"
      ],
      "text/plain": [
       "    n_estimators  max_depth  min_samples_split  min_samples_leaf     score\n",
       "0          100.0       33.0               18.0             100.0  0.842193\n",
       "1          100.0        8.0               51.0             166.0  0.841887\n",
       "2          166.0       21.0               83.0              35.0  0.841494\n",
       "3          100.0       33.0               83.0             166.0  0.841974\n",
       "4           35.0        8.0               83.0              35.0  0.840796\n",
       "..           ...        ...                ...               ...       ...\n",
       "87         157.0       21.0               37.0             185.0  0.843023\n",
       "88         185.0       26.0               51.0             100.0  0.843284\n",
       "89          95.0       21.0               23.0              70.0  0.842412\n",
       "90          16.0       31.0               65.0             129.0  0.841276\n",
       "91          44.0       21.0               65.0             129.0  0.841801\n",
       "\n",
       "[92 rows x 5 columns]"
      ]
     },
     "execution_count": 89,
     "metadata": {},
     "output_type": "execute_result"
    }
   ],
   "source": [
    "ms.history"
   ]
  },
  {
   "cell_type": "code",
   "execution_count": 71,
   "id": "05969bc2",
   "metadata": {},
   "outputs": [
    {
     "data": {
      "image/png": "[encoded data removed]",
      "text/plain": [
       "<Figure size 432x288 with 1 Axes>"
      ]
     },
     "metadata": {
      "needs_background": "light"
     },
     "output_type": "display_data"
    }
   ],
   "source": [
    "plt.plot(ms.df.index, ms.df['score']);"
   ]
  },
  {
   "cell_type": "code",
   "execution_count": 72,
   "id": "cb4a4083",
   "metadata": {},
   "outputs": [
    {
     "data": {
      "text/plain": [
       "3"
      ]
     },
     "execution_count": 72,
     "metadata": {},
     "output_type": "execute_result"
    }
   ],
   "source": [
    "ms.b"
   ]
  },
  {
   "cell_type": "code",
   "execution_count": 59,
   "id": "0ede214e",
   "metadata": {},
   "outputs": [
    {
     "data": {
      "text/html": [
       "<div>\n",
       "<style scoped>\n",
       "    .dataframe tbody tr th:only-of-type {\n",
       "        vertical-align: middle;\n",
       "    }\n",
       "\n",
       "    .dataframe tbody tr th {\n",
       "        vertical-align: top;\n",
       "    }\n",
       "\n",
       "    .dataframe thead th {\n",
       "        text-align: right;\n",
       "    }\n",
       "</style>\n",
       "<table border=\"1\" class=\"dataframe\">\n",
       "  <thead>\n",
       "    <tr style=\"text-align: right;\">\n",
       "      <th></th>\n",
       "      <th>n_estimators</th>\n",
       "      <th>max_depth</th>\n",
       "      <th>score</th>\n",
       "    </tr>\n",
       "  </thead>\n",
       "  <tbody>\n",
       "    <tr>\n",
       "      <th>44</th>\n",
       "      <td>0.530303</td>\n",
       "      <td>0.500000</td>\n",
       "      <td>0.897927</td>\n",
       "    </tr>\n",
       "    <tr>\n",
       "      <th>29</th>\n",
       "      <td>0.196970</td>\n",
       "      <td>0.710526</td>\n",
       "      <td>0.897845</td>\n",
       "    </tr>\n",
       "    <tr>\n",
       "      <th>33</th>\n",
       "      <td>0.787879</td>\n",
       "      <td>0.947368</td>\n",
       "      <td>0.897293</td>\n",
       "    </tr>\n",
       "    <tr>\n",
       "      <th>27</th>\n",
       "      <td>0.949495</td>\n",
       "      <td>0.315789</td>\n",
       "      <td>0.897018</td>\n",
       "    </tr>\n",
       "    <tr>\n",
       "      <th>26</th>\n",
       "      <td>0.479798</td>\n",
       "      <td>0.605263</td>\n",
       "      <td>0.896689</td>\n",
       "    </tr>\n",
       "    <tr>\n",
       "      <th>...</th>\n",
       "      <td>...</td>\n",
       "      <td>...</td>\n",
       "      <td>...</td>\n",
       "    </tr>\n",
       "    <tr>\n",
       "      <th>7</th>\n",
       "      <td>0.015152</td>\n",
       "      <td>0.894737</td>\n",
       "      <td>0.876929</td>\n",
       "    </tr>\n",
       "    <tr>\n",
       "      <th>88</th>\n",
       "      <td>0.020202</td>\n",
       "      <td>0.447368</td>\n",
       "      <td>0.870607</td>\n",
       "    </tr>\n",
       "    <tr>\n",
       "      <th>98</th>\n",
       "      <td>0.020202</td>\n",
       "      <td>0.710526</td>\n",
       "      <td>0.858326</td>\n",
       "    </tr>\n",
       "    <tr>\n",
       "      <th>89</th>\n",
       "      <td>0.005051</td>\n",
       "      <td>0.342105</td>\n",
       "      <td>0.848265</td>\n",
       "    </tr>\n",
       "    <tr>\n",
       "      <th>91</th>\n",
       "      <td>0.020202</td>\n",
       "      <td>0.526316</td>\n",
       "      <td>0.844408</td>\n",
       "    </tr>\n",
       "  </tbody>\n",
       "</table>\n",
       "<p>110 rows × 3 columns</p>\n",
       "</div>"
      ],
      "text/plain": [
       "    n_estimators  max_depth     score\n",
       "44      0.530303   0.500000  0.897927\n",
       "29      0.196970   0.710526  0.897845\n",
       "33      0.787879   0.947368  0.897293\n",
       "27      0.949495   0.315789  0.897018\n",
       "26      0.479798   0.605263  0.896689\n",
       "..           ...        ...       ...\n",
       "7       0.015152   0.894737  0.876929\n",
       "88      0.020202   0.447368  0.870607\n",
       "98      0.020202   0.710526  0.858326\n",
       "89      0.005051   0.342105  0.848265\n",
       "91      0.020202   0.526316  0.844408\n",
       "\n",
       "[110 rows x 3 columns]"
      ]
     },
     "execution_count": 59,
     "metadata": {},
     "output_type": "execute_result"
    }
   ],
   "source": [
    "ms.df.sort_values('score',ascending=False)"
   ]
  },
  {
   "cell_type": "code",
   "execution_count": 60,
   "id": "462d42c8",
   "metadata": {},
   "outputs": [
    {
     "data": {
      "image/png": "[encoded data removed]",
      "text/plain": [
       "<Figure size 432x288 with 1 Axes>"
      ]
     },
     "metadata": {
      "needs_background": "light"
     },
     "output_type": "display_data"
    }
   ],
   "source": [
    "plt.scatter(ms.df.iloc[:,0],ms.df.iloc[:,1])\n",
    "[(plt.axhline(b), plt.axvline(b)) for b in ms.bins[1:-1]];\n",
    "# plt.scatter(ms.df.iloc[:,2],ms.df.iloc[:,3])"
   ]
  },
  {
   "cell_type": "code",
   "execution_count": 61,
   "id": "46e35c4a",
   "metadata": {},
   "outputs": [
    {
     "data": {
      "text/plain": [
       "{'n_estimators': 116.78168898351154, 'max_depth': 30.62414556509424}"
      ]
     },
     "execution_count": 61,
     "metadata": {},
     "output_type": "execute_result"
    }
   ],
   "source": [
    "ms.best_parameters(full=True)"
   ]
  },
  {
   "cell_type": "code",
   "execution_count": 74,
   "id": "343627a2",
   "metadata": {},
   "outputs": [
    {
     "data": {
      "text/plain": [
       "<matplotlib.collections.PathCollection at 0x7fb9f87c0550>"
      ]
     },
     "execution_count": 74,
     "metadata": {},
     "output_type": "execute_result"
    },
    {
     "data": {
      "image/png": "[encoded data removed]",
      "text/plain": [
       "<Figure size 432x288 with 1 Axes>"
      ]
     },
     "metadata": {
      "needs_background": "light"
     },
     "output_type": "display_data"
    }
   ],
   "source": [
    "plt.scatter(ms.df.iloc[1::3,0], ms.df['score'][1::3], color = 'red')\n",
    "plt.scatter(ms.df.iloc[0::3,0], ms.df['score'][0::3], color='blue')\n",
    "plt.scatter(ms.df.iloc[2::3,0], ms.df['score'][2::3], color='green')"
   ]
  },
  {
   "cell_type": "code",
   "execution_count": 63,
   "id": "274e41cf",
   "metadata": {},
   "outputs": [
    {
     "data": {
      "text/plain": [
       "<matplotlib.collections.PathCollection at 0x7fb9faa64490>"
      ]
     },
     "execution_count": 63,
     "metadata": {},
     "output_type": "execute_result"
    },
    {
     "data": {
      "image/png": "[encoded data removed]",
      "text/plain": [
       "<Figure size 432x288 with 1 Axes>"
      ]
     },
     "metadata": {
      "needs_background": "light"
     },
     "output_type": "display_data"
    }
   ],
   "source": [
    "plt.scatter(ms.df.iloc[:,1], ms.df['score'])"
   ]
  },
  {
   "cell_type": "code",
   "execution_count": 70,
   "id": "0b5b313b",
   "metadata": {},
   "outputs": [
    {
     "data": {
      "text/plain": [
       "[<matplotlib.lines.Line2D at 0x7fb9fa828fd0>]"
      ]
     },
     "execution_count": 70,
     "metadata": {},
     "output_type": "execute_result"
    },
    {
     "data": {
      "image/png": "[encoded data removed]",
      "text/plain": [
       "<Figure size 432x288 with 1 Axes>"
      ]
     },
     "metadata": {
      "needs_background": "light"
     },
     "output_type": "display_data"
    }
   ],
   "source": [
    "plt.plot(ms.df.iloc[:,0])"
   ]
  },
  {
   "cell_type": "code",
   "execution_count": 69,
   "id": "cb4fc758",
   "metadata": {},
   "outputs": [
    {
     "data": {
      "text/plain": [
       "[<matplotlib.lines.Line2D at 0x7fb9fa84c7c0>]"
      ]
     },
     "execution_count": 69,
     "metadata": {},
     "output_type": "execute_result"
    },
    {
     "data": {
      "image/png": "[encoded data removed]",
      "text/plain": [
       "<Figure size 432x288 with 1 Axes>"
      ]
     },
     "metadata": {
      "needs_background": "light"
     },
     "output_type": "display_data"
    }
   ],
   "source": [
    "plt.plot(ms.df.iloc[:,1])"
   ]
  },
  {
   "cell_type": "code",
   "execution_count": null,
   "id": "527b4485",
   "metadata": {},
   "outputs": [],
   "source": []
  }
 ],
 "metadata": {
  "kernelspec": {
   "display_name": "Python 3 (ipykernel)",
   "language": "python",
   "name": "python3"
  },
  "language_info": {
   "codemirror_mode": {
    "name": "ipython",
    "version": 3
   },
   "file_extension": ".py",
   "mimetype": "text/x-python",
   "name": "python",
   "nbconvert_exporter": "python",
   "pygments_lexer": "ipython3",
   "version": "3.9.7"
  }
 },
 "nbformat": 4,
 "nbformat_minor": 5
}
